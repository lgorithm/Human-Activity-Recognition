{
 "cells": [
  {
   "cell_type": "code",
   "execution_count": 1,
   "metadata": {},
   "outputs": [],
   "source": [
    "# Importing Libraries"
   ]
  },
  {
   "cell_type": "code",
   "execution_count": 2,
   "metadata": {},
   "outputs": [],
   "source": [
    "import pandas as pd\n",
    "import numpy as np"
   ]
  },
  {
   "cell_type": "code",
   "execution_count": 3,
   "metadata": {},
   "outputs": [],
   "source": [
    "# Activities are the class labels\n",
    "# It is a 6 class classification\n",
    "ACTIVITIES = {\n",
    "    0: 'WALKING',\n",
    "    1: 'WALKING_UPSTAIRS',\n",
    "    2: 'WALKING_DOWNSTAIRS',\n",
    "    3: 'SITTING',\n",
    "    4: 'STANDING',\n",
    "    5: 'LAYING',\n",
    "}\n",
    "\n",
    "# Utility function to print the confusion matrix\n",
    "def confusion_matrix(Y_true, Y_pred):\n",
    "    Y_true = pd.Series([ACTIVITIES[y] for y in np.argmax(Y_true, axis=1)])\n",
    "    Y_pred = pd.Series([ACTIVITIES[y] for y in np.argmax(Y_pred, axis=1)])\n",
    "\n",
    "    return pd.crosstab(Y_true, Y_pred, rownames=['True'], colnames=['Pred'])"
   ]
  },
  {
   "cell_type": "markdown",
   "metadata": {},
   "source": [
    "### Data"
   ]
  },
  {
   "cell_type": "code",
   "execution_count": 4,
   "metadata": {},
   "outputs": [],
   "source": [
    "# Data directory\n",
    "DATADIR = 'UCI_HAR_Dataset'"
   ]
  },
  {
   "cell_type": "code",
   "execution_count": 5,
   "metadata": {},
   "outputs": [],
   "source": [
    "# Raw data signals\n",
    "# Signals are from Accelerometer and Gyroscope\n",
    "# The signals are in x,y,z directions\n",
    "# Sensor signals are filtered to have only body acceleration\n",
    "# excluding the acceleration due to gravity\n",
    "# Triaxial acceleration from the accelerometer is total acceleration\n",
    "SIGNALS = [\n",
    "    \"body_acc_x\",\n",
    "    \"body_acc_y\",\n",
    "    \"body_acc_z\",\n",
    "    \"body_gyro_x\",\n",
    "    \"body_gyro_y\",\n",
    "    \"body_gyro_z\",\n",
    "    \"total_acc_x\",\n",
    "    \"total_acc_y\",\n",
    "    \"total_acc_z\"\n",
    "]"
   ]
  },
  {
   "cell_type": "code",
   "execution_count": 6,
   "metadata": {},
   "outputs": [],
   "source": [
    "# Utility function to read the data from csv file\n",
    "def _read_csv(filename):\n",
    "    return pd.read_csv(filename, delim_whitespace=True, header=None)\n",
    "\n",
    "# Utility function to load the load\n",
    "def load_signals(subset):\n",
    "    signals_data = []\n",
    "\n",
    "    for signal in SIGNALS:\n",
    "        filename = f'UCI_HAR_Dataset/{subset}/Inertial Signals/{signal}_{subset}.txt'\n",
    "        signals_data.append(\n",
    "            _read_csv(filename).values\n",
    "        ) \n",
    "\n",
    "    # Transpose is used to change the dimensionality of the output,\n",
    "    # aggregating the signals by combination of sample/timestep.\n",
    "    # Resultant shape is (7352 train/2947 test samples, 128 timesteps, 9 signals)\n",
    "    return np.transpose(signals_data, (1, 2, 0))"
   ]
  },
  {
   "cell_type": "code",
   "execution_count": 7,
   "metadata": {},
   "outputs": [],
   "source": [
    "\n",
    "def load_y(subset):\n",
    "    \"\"\"\n",
    "    The objective that we are trying to predict is a integer, from 1 to 6,\n",
    "    that represents a human activity. We return a binary representation of \n",
    "    every sample objective as a 6 bits vector using One Hot Encoding\n",
    "    \"\"\"\n",
    "    filename = f'UCI_HAR_Dataset/{subset}/y_{subset}.txt'\n",
    "    y = _read_csv(filename)[0]\n",
    "\n",
    "    return pd.get_dummies(y).values"
   ]
  },
  {
   "cell_type": "code",
   "execution_count": 8,
   "metadata": {},
   "outputs": [],
   "source": [
    "def load_data():\n",
    "    \"\"\"\n",
    "    Obtain the dataset from multiple files.\n",
    "    Returns: X_train, X_test, y_train, y_test\n",
    "    \"\"\"\n",
    "    X_train, X_test = load_signals('train'), load_signals('test')\n",
    "    y_train, y_test = load_y('train'), load_y('test')\n",
    "\n",
    "    return X_train, X_test, y_train, y_test"
   ]
  },
  {
   "cell_type": "code",
   "execution_count": 9,
   "metadata": {},
   "outputs": [],
   "source": [
    "# Importing libraries\n",
    "from keras.models import Sequential\n",
    "from keras.layers import LSTM\n",
    "from keras.layers.core import Dense, Dropout"
   ]
  },
  {
   "cell_type": "code",
   "execution_count": 10,
   "metadata": {},
   "outputs": [],
   "source": [
    "# Initializing parameters\n",
    "epochs = 30\n",
    "batch_size = 16\n",
    "n_hidden = 32"
   ]
  },
  {
   "cell_type": "code",
   "execution_count": 11,
   "metadata": {},
   "outputs": [],
   "source": [
    "# Utility function to count the number of classes\n",
    "def _count_classes(y):\n",
    "    return len(set([tuple(category) for category in y]))"
   ]
  },
  {
   "cell_type": "code",
   "execution_count": 12,
   "metadata": {},
   "outputs": [],
   "source": [
    "# Loading the train and test data\n",
    "X_train, X_test, Y_train, Y_test = load_data()"
   ]
  },
  {
   "cell_type": "code",
   "execution_count": 14,
   "metadata": {},
   "outputs": [
    {
     "name": "stdout",
     "output_type": "stream",
     "text": [
      "128\n",
      "9\n",
      "7352\n"
     ]
    }
   ],
   "source": [
    "timesteps = len(X_train[0])\n",
    "input_dim = len(X_train[0][0])\n",
    "n_classes = _count_classes(Y_train)\n",
    "\n",
    "print(timesteps)\n",
    "print(input_dim)\n",
    "print(len(X_train))"
   ]
  },
  {
   "cell_type": "markdown",
   "metadata": {},
   "source": [
    "## Defining the Architecture of LSTM"
   ]
  },
  {
   "cell_type": "code",
   "execution_count": 15,
   "metadata": {},
   "outputs": [
    {
     "name": "stdout",
     "output_type": "stream",
     "text": [
      "Model: \"sequential\"\n",
      "_________________________________________________________________\n",
      " Layer (type)                Output Shape              Param #   \n",
      "=================================================================\n",
      " lstm (LSTM)                 (None, 32)                5376      \n",
      "                                                                 \n",
      " dropout (Dropout)           (None, 32)                0         \n",
      "                                                                 \n",
      " dense (Dense)               (None, 6)                 198       \n",
      "                                                                 \n",
      "=================================================================\n",
      "Total params: 5,574\n",
      "Trainable params: 5,574\n",
      "Non-trainable params: 0\n",
      "_________________________________________________________________\n"
     ]
    }
   ],
   "source": [
    "# Initiliazing the sequential model\n",
    "model = Sequential()\n",
    "# Configuring the parameters\n",
    "model.add(LSTM(n_hidden, input_shape=(timesteps, input_dim)))\n",
    "# Adding a dropout layer\n",
    "model.add(Dropout(0.5))\n",
    "# Adding a dense output layer with sigmoid activation\n",
    "model.add(Dense(n_classes, activation='sigmoid'))\n",
    "model.summary()"
   ]
  },
  {
   "cell_type": "code",
   "execution_count": 16,
   "metadata": {},
   "outputs": [],
   "source": [
    "# Compiling the model\n",
    "model.compile(loss='categorical_crossentropy',\n",
    "              optimizer='rmsprop',\n",
    "              metrics=['accuracy'])"
   ]
  },
  {
   "cell_type": "code",
   "execution_count": 17,
   "metadata": {},
   "outputs": [
    {
     "name": "stdout",
     "output_type": "stream",
     "text": [
      "Epoch 1/30\n",
      "460/460 [==============================] - 47s 90ms/step - loss: 1.1029 - accuracy: 0.5384 - val_loss: 0.9194 - val_accuracy: 0.6390\n",
      "Epoch 2/30\n",
      "460/460 [==============================] - 40s 87ms/step - loss: 0.7617 - accuracy: 0.6620 - val_loss: 0.8772 - val_accuracy: 0.6451\n",
      "Epoch 3/30\n",
      "460/460 [==============================] - 44s 95ms/step - loss: 0.6069 - accuracy: 0.7493 - val_loss: 0.6609 - val_accuracy: 0.7072\n",
      "Epoch 4/30\n",
      "460/460 [==============================] - 51s 111ms/step - loss: 0.4952 - accuracy: 0.8067 - val_loss: 0.6284 - val_accuracy: 0.7693\n",
      "Epoch 5/30\n",
      "460/460 [==============================] - 58s 126ms/step - loss: 0.3867 - accuracy: 0.8713 - val_loss: 0.4398 - val_accuracy: 0.8385\n",
      "Epoch 6/30\n",
      "460/460 [==============================] - 55s 120ms/step - loss: 0.3182 - accuracy: 0.8999 - val_loss: 0.5387 - val_accuracy: 0.8266\n",
      "Epoch 7/30\n",
      "460/460 [==============================] - 56s 122ms/step - loss: 0.2901 - accuracy: 0.9095 - val_loss: 0.3985 - val_accuracy: 0.8846\n",
      "Epoch 8/30\n",
      "460/460 [==============================] - 59s 128ms/step - loss: 0.2513 - accuracy: 0.9210 - val_loss: 0.4151 - val_accuracy: 0.8704\n",
      "Epoch 9/30\n",
      "460/460 [==============================] - 59s 129ms/step - loss: 0.2150 - accuracy: 0.9321 - val_loss: 0.3125 - val_accuracy: 0.8921\n",
      "Epoch 10/30\n",
      "460/460 [==============================] - 62s 135ms/step - loss: 0.2138 - accuracy: 0.9309 - val_loss: 0.4600 - val_accuracy: 0.8724\n",
      "Epoch 11/30\n",
      "460/460 [==============================] - 70s 152ms/step - loss: 0.1925 - accuracy: 0.9339 - val_loss: 0.4379 - val_accuracy: 0.8867\n",
      "Epoch 12/30\n",
      "460/460 [==============================] - 61s 132ms/step - loss: 0.1799 - accuracy: 0.9353 - val_loss: 0.2973 - val_accuracy: 0.9016\n",
      "Epoch 13/30\n",
      "460/460 [==============================] - 61s 132ms/step - loss: 0.1730 - accuracy: 0.9399 - val_loss: 0.4101 - val_accuracy: 0.8877\n",
      "Epoch 14/30\n",
      "460/460 [==============================] - 68s 149ms/step - loss: 0.1582 - accuracy: 0.9471 - val_loss: 0.2802 - val_accuracy: 0.9043\n",
      "Epoch 15/30\n",
      "460/460 [==============================] - 71s 155ms/step - loss: 0.1691 - accuracy: 0.9388 - val_loss: 0.2917 - val_accuracy: 0.9043\n",
      "Epoch 16/30\n",
      "460/460 [==============================] - 88s 192ms/step - loss: 0.1575 - accuracy: 0.9453 - val_loss: 0.3321 - val_accuracy: 0.9016\n",
      "Epoch 17/30\n",
      "460/460 [==============================] - 65s 141ms/step - loss: 0.1516 - accuracy: 0.9436 - val_loss: 0.3800 - val_accuracy: 0.9050\n",
      "Epoch 18/30\n",
      "460/460 [==============================] - 68s 149ms/step - loss: 0.1505 - accuracy: 0.9456 - val_loss: 0.3396 - val_accuracy: 0.9158\n",
      "Epoch 19/30\n",
      "460/460 [==============================] - 64s 139ms/step - loss: 0.1564 - accuracy: 0.9456 - val_loss: 0.4294 - val_accuracy: 0.9016\n",
      "Epoch 20/30\n",
      "460/460 [==============================] - 63s 136ms/step - loss: 0.1512 - accuracy: 0.9471 - val_loss: 0.5071 - val_accuracy: 0.8890\n",
      "Epoch 21/30\n",
      "460/460 [==============================] - 59s 129ms/step - loss: 0.1563 - accuracy: 0.9470 - val_loss: 0.3061 - val_accuracy: 0.9125\n",
      "Epoch 22/30\n",
      "460/460 [==============================] - 67s 145ms/step - loss: 0.1440 - accuracy: 0.9498 - val_loss: 0.3648 - val_accuracy: 0.9125\n",
      "Epoch 23/30\n",
      "460/460 [==============================] - 63s 138ms/step - loss: 0.1414 - accuracy: 0.9475 - val_loss: 0.3408 - val_accuracy: 0.9101\n",
      "Epoch 24/30\n",
      "460/460 [==============================] - 64s 139ms/step - loss: 0.1362 - accuracy: 0.9484 - val_loss: 0.4325 - val_accuracy: 0.9006\n",
      "Epoch 25/30\n",
      "460/460 [==============================] - 63s 137ms/step - loss: 0.1424 - accuracy: 0.9489 - val_loss: 0.4027 - val_accuracy: 0.8982\n",
      "Epoch 26/30\n",
      "460/460 [==============================] - 65s 141ms/step - loss: 0.1403 - accuracy: 0.9483 - val_loss: 0.3628 - val_accuracy: 0.9057\n",
      "Epoch 27/30\n",
      "460/460 [==============================] - 68s 148ms/step - loss: 0.1420 - accuracy: 0.9480 - val_loss: 0.5126 - val_accuracy: 0.8989\n",
      "Epoch 28/30\n",
      "460/460 [==============================] - 65s 141ms/step - loss: 0.1487 - accuracy: 0.9494 - val_loss: 0.4116 - val_accuracy: 0.9104\n",
      "Epoch 29/30\n",
      "460/460 [==============================] - 76s 165ms/step - loss: 0.1408 - accuracy: 0.9482 - val_loss: 0.4327 - val_accuracy: 0.9080\n",
      "Epoch 30/30\n",
      "460/460 [==============================] - 77s 166ms/step - loss: 0.1461 - accuracy: 0.9464 - val_loss: 0.3796 - val_accuracy: 0.9074\n"
     ]
    },
    {
     "data": {
      "text/plain": [
       "<keras.callbacks.History at 0x1c6c4b448e0>"
      ]
     },
     "execution_count": 17,
     "metadata": {},
     "output_type": "execute_result"
    }
   ],
   "source": [
    "# Training the model\n",
    "model.fit(X_train,\n",
    "          Y_train,\n",
    "          batch_size=batch_size,\n",
    "          validation_data=(X_test, Y_test),\n",
    "          epochs=epochs)"
   ]
  },
  {
   "cell_type": "code",
   "execution_count": 18,
   "metadata": {},
   "outputs": [
    {
     "name": "stdout",
     "output_type": "stream",
     "text": [
      "93/93 [==============================] - 4s 26ms/step\n",
      "Pred                LAYING  SITTING  STANDING  WALKING  WALKING_DOWNSTAIRS  \\\n",
      "True                                                                         \n",
      "LAYING                 510        0        27        0                   0   \n",
      "SITTING                  0      380       111        0                   0   \n",
      "STANDING                 0       80       452        0                   0   \n",
      "WALKING                  0        1         6      461                  17   \n",
      "WALKING_DOWNSTAIRS       0        0         0        0                 417   \n",
      "WALKING_UPSTAIRS         0        9         0        3                   5   \n",
      "\n",
      "Pred                WALKING_UPSTAIRS  \n",
      "True                                  \n",
      "LAYING                             0  \n",
      "SITTING                            0  \n",
      "STANDING                           0  \n",
      "WALKING                           11  \n",
      "WALKING_DOWNSTAIRS                 3  \n",
      "WALKING_UPSTAIRS                 454  \n"
     ]
    }
   ],
   "source": [
    "# Confusion Matrix\n",
    "print(confusion_matrix(Y_test, model.predict(X_test)))"
   ]
  },
  {
   "cell_type": "code",
   "execution_count": 19,
   "metadata": {},
   "outputs": [
    {
     "name": "stdout",
     "output_type": "stream",
     "text": [
      "93/93 [==============================] - 2s 26ms/step - loss: 0.3796 - accuracy: 0.9074\n"
     ]
    }
   ],
   "source": [
    "score = model.evaluate(X_test, Y_test)"
   ]
  },
  {
   "cell_type": "code",
   "execution_count": 20,
   "metadata": {},
   "outputs": [
    {
     "data": {
      "text/plain": [
       "[0.37959784269332886, 0.9073634147644043]"
      ]
     },
     "execution_count": 20,
     "metadata": {},
     "output_type": "execute_result"
    }
   ],
   "source": [
    "score"
   ]
  },
  {
   "cell_type": "markdown",
   "metadata": {},
   "source": [
    "- With a architecture we got 90.73% accuracy and a loss of 0.30"
   ]
  },
  {
   "cell_type": "markdown",
   "metadata": {},
   "source": [
    "## Defining the Architecture of GRU"
   ]
  },
  {
   "cell_type": "code",
   "execution_count": 21,
   "metadata": {},
   "outputs": [
    {
     "name": "stdout",
     "output_type": "stream",
     "text": [
      "Model: \"sequential_1\"\n",
      "_________________________________________________________________\n",
      " Layer (type)                Output Shape              Param #   \n",
      "=================================================================\n",
      " gru (GRU)                   (None, 32)                4128      \n",
      "                                                                 \n",
      " dropout_1 (Dropout)         (None, 32)                0         \n",
      "                                                                 \n",
      " dense_1 (Dense)             (None, 6)                 198       \n",
      "                                                                 \n",
      "=================================================================\n",
      "Total params: 4,326\n",
      "Trainable params: 4,326\n",
      "Non-trainable params: 0\n",
      "_________________________________________________________________\n"
     ]
    }
   ],
   "source": [
    "from keras.layers import GRU\n",
    "\n",
    "# Initializing the sequential model\n",
    "model = Sequential()\n",
    "# Configuring the parameters\n",
    "model.add(GRU(n_hidden, input_shape=(timesteps, input_dim)))\n",
    "# Adding a dropout layer\n",
    "model.add(Dropout(0.5))\n",
    "# Adding a dense output layer with sigmoid activation\n",
    "model.add(Dense(n_classes, activation='sigmoid'))\n",
    "\n",
    "# Summarizing the model\n",
    "model.summary()\n"
   ]
  },
  {
   "cell_type": "code",
   "execution_count": 22,
   "metadata": {},
   "outputs": [],
   "source": [
    "# Compiling the model\n",
    "model.compile(loss='categorical_crossentropy',\n",
    "              optimizer='rmsprop',\n",
    "              metrics=['accuracy'])"
   ]
  },
  {
   "cell_type": "code",
   "execution_count": 23,
   "metadata": {},
   "outputs": [
    {
     "name": "stdout",
     "output_type": "stream",
     "text": [
      "Epoch 1/30\n",
      "460/460 [==============================] - 52s 102ms/step - loss: 1.2642 - accuracy: 0.4664 - val_loss: 1.1827 - val_accuracy: 0.5215\n",
      "Epoch 2/30\n",
      "460/460 [==============================] - 66s 145ms/step - loss: 0.9207 - accuracy: 0.6155 - val_loss: 0.8496 - val_accuracy: 0.6620\n",
      "Epoch 3/30\n",
      "460/460 [==============================] - 98s 213ms/step - loss: 0.5317 - accuracy: 0.7806 - val_loss: 0.6894 - val_accuracy: 0.7635\n",
      "Epoch 4/30\n",
      "460/460 [==============================] - 94s 204ms/step - loss: 0.3531 - accuracy: 0.8700 - val_loss: 0.5220 - val_accuracy: 0.8666\n",
      "Epoch 5/30\n",
      "460/460 [==============================] - 89s 194ms/step - loss: 0.2604 - accuracy: 0.9154 - val_loss: 0.5341 - val_accuracy: 0.8582\n",
      "Epoch 6/30\n",
      "460/460 [==============================] - 101s 220ms/step - loss: 0.2320 - accuracy: 0.9234 - val_loss: 0.5342 - val_accuracy: 0.8721\n",
      "Epoch 7/30\n",
      "460/460 [==============================] - 105s 228ms/step - loss: 0.2035 - accuracy: 0.9293 - val_loss: 0.4650 - val_accuracy: 0.8951\n",
      "Epoch 8/30\n",
      "460/460 [==============================] - 106s 231ms/step - loss: 0.1968 - accuracy: 0.9309 - val_loss: 0.5021 - val_accuracy: 0.8707\n",
      "Epoch 9/30\n",
      "460/460 [==============================] - 93s 202ms/step - loss: 0.1797 - accuracy: 0.9380 - val_loss: 0.4727 - val_accuracy: 0.8907\n",
      "Epoch 10/30\n",
      "460/460 [==============================] - 98s 213ms/step - loss: 0.1706 - accuracy: 0.9388 - val_loss: 0.5521 - val_accuracy: 0.8758\n",
      "Epoch 11/30\n",
      "460/460 [==============================] - 97s 211ms/step - loss: 0.1652 - accuracy: 0.9391 - val_loss: 0.4237 - val_accuracy: 0.8975\n",
      "Epoch 12/30\n",
      "460/460 [==============================] - 91s 197ms/step - loss: 0.1675 - accuracy: 0.9396 - val_loss: 0.4549 - val_accuracy: 0.8985\n",
      "Epoch 13/30\n",
      "460/460 [==============================] - 97s 210ms/step - loss: 0.1515 - accuracy: 0.9422 - val_loss: 0.5255 - val_accuracy: 0.8914\n",
      "Epoch 14/30\n",
      "460/460 [==============================] - 104s 226ms/step - loss: 0.1465 - accuracy: 0.9441 - val_loss: 0.5178 - val_accuracy: 0.8962\n",
      "Epoch 15/30\n",
      "460/460 [==============================] - 117s 255ms/step - loss: 0.1509 - accuracy: 0.9449 - val_loss: 0.4849 - val_accuracy: 0.8999\n",
      "Epoch 16/30\n",
      "460/460 [==============================] - 84s 183ms/step - loss: 0.1538 - accuracy: 0.9422 - val_loss: 0.4538 - val_accuracy: 0.8968\n",
      "Epoch 17/30\n",
      "460/460 [==============================] - 100s 218ms/step - loss: 0.1457 - accuracy: 0.9441 - val_loss: 0.5115 - val_accuracy: 0.9040\n",
      "Epoch 18/30\n",
      "460/460 [==============================] - 105s 229ms/step - loss: 0.1345 - accuracy: 0.9475 - val_loss: 0.5314 - val_accuracy: 0.9060\n",
      "Epoch 19/30\n",
      "460/460 [==============================] - 97s 212ms/step - loss: 0.1436 - accuracy: 0.9444 - val_loss: 0.5221 - val_accuracy: 0.9006\n",
      "Epoch 20/30\n",
      "460/460 [==============================] - 98s 213ms/step - loss: 0.1379 - accuracy: 0.9453 - val_loss: 0.6128 - val_accuracy: 0.8802\n",
      "Epoch 21/30\n",
      "460/460 [==============================] - 95s 207ms/step - loss: 0.1356 - accuracy: 0.9461 - val_loss: 0.5321 - val_accuracy: 0.9043\n",
      "Epoch 22/30\n",
      "460/460 [==============================] - 104s 226ms/step - loss: 0.1332 - accuracy: 0.9445 - val_loss: 0.4761 - val_accuracy: 0.9091\n",
      "Epoch 23/30\n",
      "460/460 [==============================] - 108s 234ms/step - loss: 0.1340 - accuracy: 0.9457 - val_loss: 0.6253 - val_accuracy: 0.8972\n",
      "Epoch 24/30\n",
      "460/460 [==============================] - 103s 225ms/step - loss: 0.1284 - accuracy: 0.9483 - val_loss: 0.5573 - val_accuracy: 0.9026\n",
      "Epoch 25/30\n",
      "460/460 [==============================] - 88s 193ms/step - loss: 0.1322 - accuracy: 0.9470 - val_loss: 0.5822 - val_accuracy: 0.9043\n",
      "Epoch 26/30\n",
      "460/460 [==============================] - 108s 236ms/step - loss: 0.1360 - accuracy: 0.9465 - val_loss: 0.5230 - val_accuracy: 0.8992\n",
      "Epoch 27/30\n",
      "460/460 [==============================] - 96s 209ms/step - loss: 0.1357 - accuracy: 0.9445 - val_loss: 0.6216 - val_accuracy: 0.8955\n",
      "Epoch 28/30\n",
      "460/460 [==============================] - 114s 248ms/step - loss: 0.1282 - accuracy: 0.9467 - val_loss: 0.5990 - val_accuracy: 0.8958\n",
      "Epoch 29/30\n",
      "460/460 [==============================] - 116s 251ms/step - loss: 0.1270 - accuracy: 0.9494 - val_loss: 0.5577 - val_accuracy: 0.9019\n",
      "Epoch 30/30\n",
      "460/460 [==============================] - 113s 246ms/step - loss: 0.1318 - accuracy: 0.9463 - val_loss: 0.6442 - val_accuracy: 0.8982\n"
     ]
    },
    {
     "data": {
      "text/plain": [
       "<keras.callbacks.History at 0x1c6d50070d0>"
      ]
     },
     "execution_count": 23,
     "metadata": {},
     "output_type": "execute_result"
    }
   ],
   "source": [
    "# Fitting the model to the training data\n",
    "model.fit(X_train,\n",
    "          Y_train,\n",
    "          batch_size=batch_size,\n",
    "          validation_data=(X_test, Y_test),\n",
    "          epochs=epochs)"
   ]
  },
  {
   "cell_type": "code",
   "execution_count": 24,
   "metadata": {},
   "outputs": [
    {
     "name": "stdout",
     "output_type": "stream",
     "text": [
      "93/93 [==============================] - 9s 45ms/step\n",
      "Pred                LAYING  SITTING  STANDING  WALKING  WALKING_DOWNSTAIRS  \\\n",
      "True                                                                         \n",
      "LAYING                 510        0         0        0                   0   \n",
      "SITTING                  0      364       124        0                   1   \n",
      "STANDING                 0       57       470        5                   0   \n",
      "WALKING                  0        0         0      459                  15   \n",
      "WALKING_DOWNSTAIRS       2        0         0        2                 381   \n",
      "WALKING_UPSTAIRS         0        0         0        7                   1   \n",
      "\n",
      "Pred                WALKING_UPSTAIRS  \n",
      "True                                  \n",
      "LAYING                            27  \n",
      "SITTING                            2  \n",
      "STANDING                           0  \n",
      "WALKING                           22  \n",
      "WALKING_DOWNSTAIRS                35  \n",
      "WALKING_UPSTAIRS                 463  \n"
     ]
    }
   ],
   "source": [
    "# Confusion Matrix\n",
    "print(confusion_matrix(Y_test, model.predict(X_test)))"
   ]
  },
  {
   "cell_type": "code",
   "execution_count": 26,
   "metadata": {},
   "outputs": [
    {
     "name": "stdout",
     "output_type": "stream",
     "text": [
      "93/93 [==============================] - 4s 40ms/step - loss: 0.6442 - accuracy: 0.8982\n"
     ]
    },
    {
     "data": {
      "text/plain": [
       "[0.6441911458969116, 0.898201584815979]"
      ]
     },
     "execution_count": 26,
     "metadata": {},
     "output_type": "execute_result"
    }
   ],
   "source": [
    "score = model.evaluate(X_test, Y_test)\n",
    "score"
   ]
  }
 ],
 "metadata": {
  "kernelspec": {
   "display_name": "Python 3 (ipykernel)",
   "language": "python",
   "name": "python3"
  },
  "language_info": {
   "codemirror_mode": {
    "name": "ipython",
    "version": 3
   },
   "file_extension": ".py",
   "mimetype": "text/x-python",
   "name": "python",
   "nbconvert_exporter": "python",
   "pygments_lexer": "ipython3",
   "version": "3.10.9"
  }
 },
 "nbformat": 4,
 "nbformat_minor": 2
}
